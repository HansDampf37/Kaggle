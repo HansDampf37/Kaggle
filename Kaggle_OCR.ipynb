{
  "nbformat": 4,
  "nbformat_minor": 0,
  "metadata": {
    "colab": {
      "provenance": [],
      "authorship_tag": "ABX9TyO1jC98u19U/hkZZd2kG9Gq",
      "include_colab_link": true
    },
    "kernelspec": {
      "name": "python3",
      "display_name": "Python 3"
    },
    "language_info": {
      "name": "python"
    }
  },
  "cells": [
    {
      "cell_type": "markdown",
      "metadata": {
        "id": "view-in-github",
        "colab_type": "text"
      },
      "source": [
        "<a href=\"https://colab.research.google.com/github/HansDampf37/Kaggle/blob/main/Kaggle_OCR.ipynb\" target=\"_parent\"><img src=\"https://colab.research.google.com/assets/colab-badge.svg\" alt=\"Open In Colab\"/></a>"
      ]
    },
    {
      "cell_type": "code",
      "execution_count": 48,
      "metadata": {
        "id": "kNJDWWOXl8nw"
      },
      "outputs": [],
      "source": [
        "import pandas as pd\n",
        "from sklearn.model_selection import train_test_split\n",
        "import torch\n",
        "import torch.nn as nn\n",
        "import torch.optim as optim\n",
        "from torch.utils.data import DataLoader, TensorDataset"
      ]
    },
    {
      "cell_type": "code",
      "source": [
        "df = pd.read_csv('data/train.csv')\n",
        "y = df['label']\n",
        "X = df.drop('label', axis=1)\n",
        "X = X.values.reshape(-1, 28, 28)\n",
        "\n",
        "X_train, X_test, y_train, y_test = train_test_split(X, y, test_size=0.2, random_state=42)\n",
        "print(X_train.shape)\n",
        "print(X_test.shape)\n",
        "print(y_train.shape)\n",
        "print(y_test.shape)"
      ],
      "metadata": {
        "colab": {
          "base_uri": "https://localhost:8080/"
        },
        "id": "Wd7mRUhPmOYq",
        "outputId": "3bc1bf74-0e80-43f1-f270-1b5ee9811272"
      },
      "execution_count": 49,
      "outputs": [
        {
          "output_type": "stream",
          "name": "stdout",
          "text": [
            "(4125, 28, 28)\n",
            "(1032, 28, 28)\n",
            "(4125,)\n",
            "(1032,)\n"
          ]
        }
      ]
    },
    {
      "cell_type": "code",
      "source": [
        "class OCR(nn.Module):\n",
        "    def __init__(self):\n",
        "        super(OCR, self).__init__()\n",
        "        self.conv1 = nn.Conv2d(1, 16, kernel_size=(3, 3), stride=(1, 1), padding=(1, 1)) # 28\n",
        "        self.pool1 = nn.MaxPool2d(kernel_size=(2, 2), stride=(2, 2)) # 14\n",
        "        self.conv2 = nn.Conv2d(16, 16, kernel_size=(3, 3), stride=(1, 1), padding=(1, 1))\n",
        "        self.pool2 = nn.MaxPool2d(kernel_size=(2, 2), stride=(2, 2)) # 7\n",
        "        self.conv3 = nn.Conv2d(16, 16, kernel_size=(2, 2), stride=(1, 1)) # 6\n",
        "        self.pool3 = nn.MaxPool2d(kernel_size=(2, 2), stride=(2, 2)) # 3\n",
        "        self.fc1 = nn.Linear(3 * 3 * 16, 10)\n",
        "        self.fc2 = nn.Linear(10, 10)\n",
        "        self.relu = nn.ReLU()\n",
        "        self.criterion = nn.CrossEntropyLoss()\n",
        "        self.optimizer = optim.Adam(ocr.parameters(), lr=0.001)\n",
        "\n",
        "\n",
        "    def forward(self, x):\n",
        "        x = self.pool1(self.relu(self.conv1(x)))\n",
        "        x = self.pool2(self.relu(self.conv2(x)))\n",
        "        x = self.pool3(self.relu(self.conv3(x)))\n",
        "        x = nn.Flatten()(x)\n",
        "        x = self.relu(self.fc1(x))\n",
        "        x = self.fc2(x)\n",
        "        return x\n",
        "\n",
        "    def score(self, X, y):\n",
        "        self.eval()\n",
        "        with torch.no_grad():\n",
        "            output = self(torch.from_numpy(X).unsqueeze(1).float())\n",
        "            _, predicted = torch.max(output.data, 1)\n",
        "            total = y.shape[0]\n",
        "            correct = (predicted == torch.from_numpy(y.values)).sum().item()\n",
        "            return correct / total\n",
        "\n",
        "ocr = OCR()"
      ],
      "metadata": {
        "id": "zRx9Is7VmTDE"
      },
      "execution_count": 50,
      "outputs": []
    },
    {
      "cell_type": "code",
      "source": [
        "def train(model, train_loader, epochs):\n",
        "    for epoch in range(epochs):\n",
        "        model.train()\n",
        "        running_loss = 0.0\n",
        "        for inputs, labels in train_loader:\n",
        "            model.optimizer.zero_grad()\n",
        "            outputs = model(inputs)\n",
        "            loss = model.criterion(outputs, labels)\n",
        "            model.optimizer.step()\n",
        "            running_loss += loss.item()\n",
        "\n",
        "        # Print statistics\n",
        "        test_acc = model.score(X_test, y_test)\n",
        "        print(f'Epoch [{epoch + 1}/{epochs}], Loss: {running_loss / len(train_loader):.4f}, Acc: {test_acc:.4f}')\n",
        "\n",
        "\n",
        "dataset = TensorDataset(torch.from_numpy(X_train).unsqueeze(1).float(), torch.from_numpy(y_train.values).long())\n",
        "train_loader = DataLoader(dataset, batch_size=32, shuffle=True)\n",
        "train(ocr, train_loader, epochs=10)\n"
      ],
      "metadata": {
        "colab": {
          "base_uri": "https://localhost:8080/"
        },
        "id": "UbAXX6b5oihq",
        "outputId": "1071a612-7301-4397-a083-b6daba8e50fa"
      },
      "execution_count": 52,
      "outputs": [
        {
          "output_type": "stream",
          "name": "stdout",
          "text": [
            "Epoch [1/10], Loss: nan, Acc: 0.1056\n",
            "Epoch [2/10], Loss: nan, Acc: 0.1056\n",
            "Epoch [3/10], Loss: nan, Acc: 0.1056\n",
            "Epoch [4/10], Loss: nan, Acc: 0.1056\n",
            "Epoch [5/10], Loss: nan, Acc: 0.1056\n",
            "Epoch [6/10], Loss: nan, Acc: 0.1056\n",
            "Epoch [7/10], Loss: nan, Acc: 0.1056\n",
            "Epoch [8/10], Loss: nan, Acc: 0.1056\n",
            "Epoch [9/10], Loss: nan, Acc: 0.1056\n",
            "Epoch [10/10], Loss: nan, Acc: 0.1056\n"
          ]
        }
      ]
    },
    {
      "cell_type": "code",
      "source": [],
      "metadata": {
        "id": "Bd8WDK66psgd"
      },
      "execution_count": null,
      "outputs": []
    }
  ]
}
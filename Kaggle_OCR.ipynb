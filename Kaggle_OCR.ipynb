{
 "nbformat": 4,
 "nbformat_minor": 0,
 "metadata": {
  "colab": {
   "provenance": [],
   "authorship_tag": "ABX9TyO1jC98u19U/hkZZd2kG9Gq",
   "include_colab_link": true
  },
  "kernelspec": {
   "name": "python3",
   "display_name": "Python 3 (ipykernel)",
   "language": "python"
  },
  "language_info": {
   "name": "python"
  }
 },
 "cells": [
  {
   "cell_type": "markdown",
   "metadata": {
    "id": "view-in-github",
    "colab_type": "text"
   },
   "source": [
    "<a href=\"https://colab.research.google.com/github/HansDampf37/Kaggle/blob/main/Kaggle_OCR.ipynb\" target=\"_parent\"><img src=\"https://colab.research.google.com/assets/colab-badge.svg\" alt=\"Open In Colab\"/></a>"
   ]
  },
  {
   "cell_type": "code",
   "metadata": {
    "id": "kNJDWWOXl8nw",
    "ExecuteTime": {
     "end_time": "2024-08-13T22:14:32.533919Z",
     "start_time": "2024-08-13T22:14:27.560854Z"
    }
   },
   "source": [
    "import pandas as pd\n",
    "from sklearn.model_selection import train_test_split\n",
    "import torch\n",
    "import torch.nn as nn\n",
    "import torch.optim as optim\n",
    "from torch.utils.data import DataLoader, TensorDataset"
   ],
   "outputs": [],
   "execution_count": 2
  },
  {
   "cell_type": "code",
   "source": [
    "df = pd.read_csv('data/ocr/train.csv')\n",
    "y = df['label']\n",
    "X = df.drop('label', axis=1)\n",
    "X = X.values.reshape(-1, 28, 28)\n",
    "\n",
    "X_train, X_test, y_train, y_test = train_test_split(X, y, test_size=0.2, random_state=42)\n",
    "print(X_train.shape)\n",
    "print(X_test.shape)\n",
    "print(y_train.shape)\n",
    "print(y_test.shape)"
   ],
   "metadata": {
    "colab": {
     "base_uri": "https://localhost:8080/"
    },
    "id": "Wd7mRUhPmOYq",
    "outputId": "3bc1bf74-0e80-43f1-f270-1b5ee9811272",
    "ExecuteTime": {
     "end_time": "2024-08-13T22:14:34.558350Z",
     "start_time": "2024-08-13T22:14:32.552006Z"
    }
   },
   "outputs": [
    {
     "name": "stdout",
     "output_type": "stream",
     "text": [
      "(33600, 28, 28)\n",
      "(8400, 28, 28)\n",
      "(33600,)\n",
      "(8400,)\n"
     ]
    }
   ],
   "execution_count": 3
  },
  {
   "cell_type": "code",
   "source": [
    "class OCR(nn.Module):\n",
    "    def __init__(self):\n",
    "        super(OCR, self).__init__()\n",
    "        self.conv1 = nn.Conv2d(1, 16, kernel_size=(3, 3), stride=(1, 1), padding=(1, 1)) # 28\n",
    "        self.pool1 = nn.MaxPool2d(kernel_size=(2, 2), stride=(2, 2)) # 14\n",
    "        self.conv2 = nn.Conv2d(16, 16, kernel_size=(3, 3), stride=(1, 1), padding=(1, 1))\n",
    "        self.pool2 = nn.MaxPool2d(kernel_size=(2, 2), stride=(2, 2)) # 7\n",
    "        self.conv3 = nn.Conv2d(16, 16, kernel_size=(2, 2), stride=(1, 1)) # 6\n",
    "        self.pool3 = nn.MaxPool2d(kernel_size=(2, 2), stride=(2, 2)) # 3\n",
    "        self.fc1 = nn.Linear(3 * 3 * 16, 10)\n",
    "        self.fc2 = nn.Linear(10, 10)\n",
    "        self.relu = nn.ReLU()\n",
    "        self.criterion = nn.CrossEntropyLoss()\n",
    "        self.optimizer = optim.Adam(self.parameters(), lr=0.001)\n",
    "\n",
    "\n",
    "    def forward(self, x):\n",
    "        x = self.pool1(self.relu(self.conv1(x)))\n",
    "        x = self.pool2(self.relu(self.conv2(x)))\n",
    "        x = self.pool3(self.relu(self.conv3(x)))\n",
    "        x = nn.Flatten()(x)\n",
    "        x = self.relu(self.fc1(x))\n",
    "        x = self.fc2(x)\n",
    "        return x\n",
    "\n",
    "    def score(self, X, y):\n",
    "        self.eval()\n",
    "        with torch.no_grad():\n",
    "            output = self(torch.from_numpy(X).unsqueeze(1).float())\n",
    "            _, predicted = torch.max(output.data, 1)\n",
    "            total = y.shape[0]\n",
    "            correct = (predicted == torch.from_numpy(y.values)).sum().item()\n",
    "            return correct / total\n",
    "\n",
    "ocr = OCR()"
   ],
   "metadata": {
    "id": "zRx9Is7VmTDE",
    "ExecuteTime": {
     "end_time": "2024-08-13T22:14:36.075924Z",
     "start_time": "2024-08-13T22:14:34.583971Z"
    }
   },
   "outputs": [],
   "execution_count": 4
  },
  {
   "cell_type": "code",
   "source": [
    "def train(model, train_loader, epochs):\n",
    "    train_accs = []\n",
    "    test_accs = []\n",
    "    for epoch in range(epochs):\n",
    "        model.train()\n",
    "        running_loss = 0.0\n",
    "        for inputs, labels in train_loader:\n",
    "            outputs = model(inputs)\n",
    "            loss = model.criterion(outputs, labels)\n",
    "            \n",
    "            # Backward pass and optimization\n",
    "            model.optimizer.zero_grad()\n",
    "            loss.backward()\n",
    "            model.optimizer.step()\n",
    "\n",
    "        # Print statistics\n",
    "        test_acc = model.score(X_test, y_test)\n",
    "        train_acc = model.score(X_train, y_train)\n",
    "        test_accs.append(test_acc)\n",
    "        train_accs.append(train_acc)\n",
    "        print(f'Epoch [{epoch + 1}/{epochs}], Loss: {running_loss / len(train_loader):.4f}, Test-Acc: {test_acc:.4f}, Train-Acc: {train_acc:.4f}')\n",
    "\n",
    "\n",
    "dataset = TensorDataset(torch.from_numpy(X_train).unsqueeze(1).float(), torch.from_numpy(y_train.values).long())\n",
    "train_loader = DataLoader(dataset, batch_size=32, shuffle=True)\n",
    "train(ocr, train_loader, epochs=10)\n"
   ],
   "metadata": {
    "colab": {
     "base_uri": "https://localhost:8080/"
    },
    "id": "UbAXX6b5oihq",
    "outputId": "1071a612-7301-4397-a083-b6daba8e50fa",
    "ExecuteTime": {
     "end_time": "2024-08-13T22:16:05.987866Z",
     "start_time": "2024-08-13T22:14:36.090209Z"
    }
   },
   "outputs": [
    {
     "name": "stdout",
     "output_type": "stream",
     "text": [
      "Epoch [1/10], Loss: 0.0000, Test-Acc: 0.9268, Train-Acc: 0.9325\n",
      "Epoch [2/10], Loss: 0.0000, Test-Acc: 0.9529, Train-Acc: 0.9606\n",
      "Epoch [3/10], Loss: 0.0000, Test-Acc: 0.9554, Train-Acc: 0.9649\n",
      "Epoch [4/10], Loss: 0.0000, Test-Acc: 0.9626, Train-Acc: 0.9693\n",
      "Epoch [5/10], Loss: 0.0000, Test-Acc: 0.9695, Train-Acc: 0.9759\n",
      "Epoch [6/10], Loss: 0.0000, Test-Acc: 0.9702, Train-Acc: 0.9786\n",
      "Epoch [7/10], Loss: 0.0000, Test-Acc: 0.9731, Train-Acc: 0.9834\n",
      "Epoch [8/10], Loss: 0.0000, Test-Acc: 0.9742, Train-Acc: 0.9827\n",
      "Epoch [9/10], Loss: 0.0000, Test-Acc: 0.9724, Train-Acc: 0.9836\n",
      "Epoch [10/10], Loss: 0.0000, Test-Acc: 0.9740, Train-Acc: 0.9859\n"
     ]
    }
   ],
   "execution_count": 5
  },
  {
   "cell_type": "code",
   "source": "ocr.score(X_test, y_test)",
   "metadata": {
    "id": "Bd8WDK66psgd",
    "ExecuteTime": {
     "end_time": "2024-08-13T22:16:06.698128Z",
     "start_time": "2024-08-13T22:16:06.004910Z"
    }
   },
   "outputs": [
    {
     "data": {
      "text/plain": [
       "0.974047619047619"
      ]
     },
     "execution_count": 6,
     "metadata": {},
     "output_type": "execute_result"
    }
   ],
   "execution_count": 6
  },
  {
   "metadata": {
    "ExecuteTime": {
     "end_time": "2024-08-13T22:16:09.606715Z",
     "start_time": "2024-08-13T22:16:06.773595Z"
    }
   },
   "cell_type": "code",
   "source": [
    "df = pd.read_csv('data/ocr/test.csv')\n",
    "X = df.values.reshape(-1, 28, 28)\n",
    "output = ocr(torch.from_numpy(X).unsqueeze(1).float())\n",
    "\n",
    "submission = pd.DataFrame()\n",
    "submission['ImageId'] = df.index + 1\n",
    "submission['label'] = torch.argmax(output, dim=1).numpy()\n",
    "submission.to_csv('data/ocr/submission.csv', index=False)"
   ],
   "outputs": [],
   "execution_count": 7
  },
  {
   "metadata": {
    "ExecuteTime": {
     "end_time": "2024-08-13T22:18:28.106064Z",
     "start_time": "2024-08-13T22:18:28.088743Z"
    }
   },
   "cell_type": "code",
   "source": "submission",
   "outputs": [
    {
     "data": {
      "text/plain": [
       "       ImageId  label\n",
       "0            1      2\n",
       "1            2      0\n",
       "2            3      9\n",
       "3            4      5\n",
       "4            5      3\n",
       "...        ...    ...\n",
       "27995    27996      9\n",
       "27996    27997      7\n",
       "27997    27998      3\n",
       "27998    27999      9\n",
       "27999    28000      2\n",
       "\n",
       "[28000 rows x 2 columns]"
      ],
      "text/html": [
       "<div>\n",
       "<style scoped>\n",
       "    .dataframe tbody tr th:only-of-type {\n",
       "        vertical-align: middle;\n",
       "    }\n",
       "\n",
       "    .dataframe tbody tr th {\n",
       "        vertical-align: top;\n",
       "    }\n",
       "\n",
       "    .dataframe thead th {\n",
       "        text-align: right;\n",
       "    }\n",
       "</style>\n",
       "<table border=\"1\" class=\"dataframe\">\n",
       "  <thead>\n",
       "    <tr style=\"text-align: right;\">\n",
       "      <th></th>\n",
       "      <th>ImageId</th>\n",
       "      <th>label</th>\n",
       "    </tr>\n",
       "  </thead>\n",
       "  <tbody>\n",
       "    <tr>\n",
       "      <th>0</th>\n",
       "      <td>1</td>\n",
       "      <td>2</td>\n",
       "    </tr>\n",
       "    <tr>\n",
       "      <th>1</th>\n",
       "      <td>2</td>\n",
       "      <td>0</td>\n",
       "    </tr>\n",
       "    <tr>\n",
       "      <th>2</th>\n",
       "      <td>3</td>\n",
       "      <td>9</td>\n",
       "    </tr>\n",
       "    <tr>\n",
       "      <th>3</th>\n",
       "      <td>4</td>\n",
       "      <td>5</td>\n",
       "    </tr>\n",
       "    <tr>\n",
       "      <th>4</th>\n",
       "      <td>5</td>\n",
       "      <td>3</td>\n",
       "    </tr>\n",
       "    <tr>\n",
       "      <th>...</th>\n",
       "      <td>...</td>\n",
       "      <td>...</td>\n",
       "    </tr>\n",
       "    <tr>\n",
       "      <th>27995</th>\n",
       "      <td>27996</td>\n",
       "      <td>9</td>\n",
       "    </tr>\n",
       "    <tr>\n",
       "      <th>27996</th>\n",
       "      <td>27997</td>\n",
       "      <td>7</td>\n",
       "    </tr>\n",
       "    <tr>\n",
       "      <th>27997</th>\n",
       "      <td>27998</td>\n",
       "      <td>3</td>\n",
       "    </tr>\n",
       "    <tr>\n",
       "      <th>27998</th>\n",
       "      <td>27999</td>\n",
       "      <td>9</td>\n",
       "    </tr>\n",
       "    <tr>\n",
       "      <th>27999</th>\n",
       "      <td>28000</td>\n",
       "      <td>2</td>\n",
       "    </tr>\n",
       "  </tbody>\n",
       "</table>\n",
       "<p>28000 rows × 2 columns</p>\n",
       "</div>"
      ]
     },
     "execution_count": 9,
     "metadata": {},
     "output_type": "execute_result"
    }
   ],
   "execution_count": 9
  },
  {
   "metadata": {},
   "cell_type": "code",
   "outputs": [],
   "execution_count": null,
   "source": ""
  }
 ]
}
